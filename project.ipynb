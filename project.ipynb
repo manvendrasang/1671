{
 "cells": [
  {
   "cell_type": "code",
   "execution_count": 1,
   "metadata": {},
   "outputs": [
    {
     "name": "stdout",
     "output_type": "stream",
     "text": [
      "^C\n",
      "Note: you may need to restart the kernel to use updated packages.\n"
     ]
    }
   ],
   "source": [
    "pip install tensorflow mtcnn opencv-python-headless matplotlib"
   ]
  },
  {
   "cell_type": "code",
   "execution_count": 1,
   "metadata": {},
   "outputs": [
    {
     "ename": "KeyboardInterrupt",
     "evalue": "",
     "output_type": "error",
     "traceback": [
      "\u001b[1;31m---------------------------------------------------------------------------\u001b[0m",
      "\u001b[1;31mKeyboardInterrupt\u001b[0m                         Traceback (most recent call last)",
      "Cell \u001b[1;32mIn[1], line 7\u001b[0m\n\u001b[0;32m      5\u001b[0m \u001b[38;5;28;01mimport\u001b[39;00m \u001b[38;5;21;01mmatplotlib\u001b[39;00m\u001b[38;5;21;01m.\u001b[39;00m\u001b[38;5;21;01mpyplot\u001b[39;00m \u001b[38;5;28;01mas\u001b[39;00m \u001b[38;5;21;01mplt\u001b[39;00m\n\u001b[0;32m      6\u001b[0m detector \u001b[38;5;241m=\u001b[39m MTCNN()\n\u001b[1;32m----> 7\u001b[0m video_capture \u001b[38;5;241m=\u001b[39m \u001b[43mcv2\u001b[49m\u001b[38;5;241;43m.\u001b[39;49m\u001b[43mVideoCapture\u001b[49m\u001b[43m(\u001b[49m\u001b[38;5;241;43m0\u001b[39;49m\u001b[43m)\u001b[49m\n\u001b[0;32m      8\u001b[0m desired_fps \u001b[38;5;241m=\u001b[39m \u001b[38;5;241m10\u001b[39m  \n\u001b[0;32m      9\u001b[0m frame_delay \u001b[38;5;241m=\u001b[39m \u001b[38;5;241m1\u001b[39m \u001b[38;5;241m/\u001b[39m desired_fps  \n",
      "\u001b[1;31mKeyboardInterrupt\u001b[0m: "
     ]
    }
   ],
   "source": [
    "import cv2\n",
    "import time\n",
    "import numpy as np\n",
    "from mtcnn import MTCNN\n",
    "import matplotlib.pyplot as plt\n",
    "detector = MTCNN()\n",
    "video_capture = cv2.VideoCapture(0)\n",
    "desired_fps = 10  \n",
    "frame_delay = 1 / desired_fps  \n",
    "padding_factor = 0.2  \n",
    "while True:\n",
    "    ret, frame = video_capture.read()\n",
    "    if not ret:\n",
    "        break\n",
    "    rgb_frame = cv2.cvtColor(frame, cv2.COLOR_BGR2RGB)\n",
    "    faces = detector.detect_faces(rgb_frame)\n",
    "    for face in faces:\n",
    "        x, y, width, height = face['box']\n",
    "        x, y = abs(x), abs(y)  \n",
    "        x_pad = int(width * padding_factor)  \n",
    "        y_pad = int(height * padding_factor)  \n",
    "        x_new = max(0, x - x_pad)\n",
    "        y_new = max(0, y - y_pad)\n",
    "        width_new = width + 3 * x_pad\n",
    "        height_new = height + 3 * y_pad\n",
    "        face_region = rgb_frame[y_new:y_new + height_new, x_new:x_new + width_new]\n",
    "        gray_face = cv2.cvtColor(face_region, cv2.COLOR_RGB2GRAY)\n",
    "        blurred_face = cv2.GaussianBlur(gray_face, (5, 5), 1.4)\n",
    "        edges = cv2.Canny(blurred_face, threshold1=100, threshold2=200)\n",
    "        colored_edges = cv2.cvtColor(edges, cv2.COLOR_GRAY2RGB)\n",
    "        frame[y_new:y_new + height_new, x_new:x_new + width_new] = cv2.cvtColor(colored_edges, cv2.COLOR_RGB2BGR)\n",
    "        cv2.rectangle(frame, (x_new, y_new), (x_new + width_new, y_new + height_new), (0, 255, 0), 2)\n",
    "    cv2.imshow('Face Detection with Canny Edges (TensorFlow + MTCNN)', frame)\n",
    "    time.sleep(frame_delay)\n",
    "    if cv2.waitKey(1) & 0xFF == ord('q'):\n",
    "        break\n",
    "video_capture.release()\n",
    "cv2.destroyAllWindows()\n"
   ]
  }
 ],
 "metadata": {
  "kernelspec": {
   "display_name": "base",
   "language": "python",
   "name": "python3"
  },
  "language_info": {
   "codemirror_mode": {
    "name": "ipython",
    "version": 3
   },
   "file_extension": ".py",
   "mimetype": "text/x-python",
   "name": "python",
   "nbconvert_exporter": "python",
   "pygments_lexer": "ipython3",
   "version": "3.12.4"
  }
 },
 "nbformat": 4,
 "nbformat_minor": 2
}
